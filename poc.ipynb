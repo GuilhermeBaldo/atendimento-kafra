{
 "cells": [
  {
   "cell_type": "code",
   "execution_count": 1,
   "metadata": {},
   "outputs": [],
   "source": [
    "from langchain_community.document_loaders import ApifyDatasetLoader\n",
    "from langchain.indexes import VectorstoreIndexCreator\n",
    "from langchain_community.document_loaders.base import Document\n",
    "from langchain.schema.vectorstore import VectorStoreRetriever\n",
    "from langchain.agents.agent_toolkits import create_retriever_tool\n",
    "from langchain.tools import Tool\n",
    "from langchain.chat_models import ChatOpenAI\n",
    "from langchain.agents import create_openai_tools_agent\n",
    "from langchain.agents.agent import AgentExecutor\n",
    "from langchain import hub\n",
    "\n",
    "from decouple import AutoConfig\n",
    "\n",
    "config = AutoConfig(\".\")"
   ]
  },
  {
   "cell_type": "code",
   "execution_count": 2,
   "metadata": {},
   "outputs": [],
   "source": [
    "def create_bro_wiki_retriever() -> VectorStoreRetriever:\n",
    "    loader = ApifyDatasetLoader(\n",
    "        dataset_id=\"ef4x5emShPlFoGFPl\",\n",
    "        dataset_mapping_function=lambda dataset_item: Document(\n",
    "            page_content=dataset_item[\"text\"], metadata={\"source\": dataset_item[\"url\"]}\n",
    "        ),\n",
    "    )\n",
    "    vectorstore = VectorstoreIndexCreator().from_loaders([loader])\n",
    "    return vectorstore.vectorstore.as_retriever()\n",
    "\n",
    "def get_bro_wiki_tool() -> Tool:\n",
    "    return create_retriever_tool(\n",
    "        create_bro_wiki_retriever(),\n",
    "        \"bro_wiki_retriever\",\n",
    "        \"Procura e retorna informações sobre bRO (Brazilian Ragnarok Online) na sua wiki.\",\n",
    "    )\n",
    "\n",
    "def get_kafra_agent() -> AgentExecutor:\n",
    "    tools = [\n",
    "        get_bro_wiki_tool(),\n",
    "    ]\n",
    "    openai_llm = ChatOpenAI(\n",
    "        model=config(\"OPENAI_MODEL\"),\n",
    "        temperature=0,\n",
    "    )\n",
    "    prompt = hub.pull(\"hwchase17/openai-tools-agent\")\n",
    "    agent = create_openai_tools_agent(\n",
    "        tools=tools,\n",
    "        llm=openai_llm,\n",
    "        prompt=prompt\n",
    "    )\n",
    "    agent_executor = AgentExecutor(\n",
    "        agent=agent,\n",
    "        tools=tools,\n",
    "        verbose=False,\n",
    "    )\n",
    "    return agent_executor"
   ]
  },
  {
   "cell_type": "code",
   "execution_count": 3,
   "metadata": {},
   "outputs": [
    {
     "name": "stderr",
     "output_type": "stream",
     "text": [
      "/home/guilherme/git/atendimento-kafra/.venv/lib/python3.11/site-packages/langchain_core/_api/deprecation.py:117: LangChainDeprecationWarning: The class `langchain_community.embeddings.openai.OpenAIEmbeddings` was deprecated in langchain-community 0.1.0 and will be removed in 0.2.0. An updated version of the class exists in the langchain-openai package and should be used instead. To use it run `pip install -U langchain-openai` and import as `from langchain_openai import OpenAIEmbeddings`.\n",
      "  warn_deprecated(\n",
      "/home/guilherme/git/atendimento-kafra/.venv/lib/python3.11/site-packages/langchain_core/_api/deprecation.py:117: LangChainDeprecationWarning: The class `langchain_community.chat_models.openai.ChatOpenAI` was deprecated in langchain-community 0.0.10 and will be removed in 0.2.0. An updated version of the class exists in the langchain-openai package and should be used instead. To use it run `pip install -U langchain-openai` and import as `from langchain_openai import ChatOpenAI`.\n",
      "  warn_deprecated(\n"
     ]
    }
   ],
   "source": [
    "kafra_agent_executor = get_kafra_agent()"
   ]
  },
  {
   "cell_type": "code",
   "execution_count": 5,
   "metadata": {},
   "outputs": [
    {
     "name": "stdout",
     "output_type": "stream",
     "text": [
      "Infelizmente, não consegui encontrar informações sobre a \"Bata de Orleans\" no Brazilian Ragnarok Online (bRO) através da ferramenta de busca da wiki. Parece que pode haver um problema com a ferramenta de busca ou o item pode não estar listado na wiki sob esse nome.\n",
      "\n",
      "Se você estiver procurando pelos efeitos da \"Bata de Orleans\" no jogo, posso fornecer informações com base no conhecimento geral sobre o item em outras versões do Ragnarok Online, mas tenha em mente que pode haver diferenças específicas no bRO. A \"Bata de Orleans\" (Orleans's Gown) é geralmente conhecida por oferecer uma redução no tempo de conjuração variável de habilidades mágicas. Se você precisar de informações precisas e atualizadas específicas para o bRO, recomendo verificar diretamente no jogo, se possível, ou em fóruns e comunidades de jogadores do bRO.\n"
     ]
    }
   ],
   "source": [
    "response = kafra_agent_executor.invoke({\"input\": \"Qual efeitos da bata de orleans?\"})\n",
    "print(response[\"output\"])"
   ]
  }
 ],
 "metadata": {
  "interpreter": {
   "hash": "71e3a7b5aae5ff5bbef1e890c4ef964523a8cb713424b4a0399f2f40d46ec494"
  },
  "kernelspec": {
   "display_name": "Python 3.11.7 ('.venv': venv)",
   "language": "python",
   "name": "python3"
  },
  "language_info": {
   "codemirror_mode": {
    "name": "ipython",
    "version": 3
   },
   "file_extension": ".py",
   "mimetype": "text/x-python",
   "name": "python",
   "nbconvert_exporter": "python",
   "pygments_lexer": "ipython3",
   "version": "3.11.7"
  },
  "orig_nbformat": 4
 },
 "nbformat": 4,
 "nbformat_minor": 2
}
